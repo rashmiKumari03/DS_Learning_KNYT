{
 "cells": [
  {
   "cell_type": "code",
   "execution_count": 18,
   "metadata": {},
   "outputs": [],
   "source": [
    "a= {'Linear Regression': {'train_score': 0.8743080398577533, 'test_score': 0.8805225698310648}, 'Rigid Regression': {'train_score': 0.8743044675204545, 'test_score': 0.8805917946912827}, 'Lasso Regression': {'train_score': 0.8707302027304805, 'test_score': 0.881566256500233}, 'ElasticNet Regression': {'train_score': 0.8653229929285037, 'test_score': 0.8746331163845618}, 'Support Vector Regressor': {'train_score': 0.8726134362008928, 'test_score': 0.8807789203580447}, 'Decision Tree Regressor': {'train_score': 0.9996534669718089, 'test_score': 0.6843490382118071}, 'RandomForest Regressor': {'train_score': 0.9764712430665835, 'test_score': 0.8554833095998092}, 'AdaBoost Regressor': {'train_score': 0.8504636519671606, 'test_score': 0.8452019585345801}, 'GradientBoost Regressor': {'train_score': 0.9050396644022572, 'test_score': 0.8722860794151958}, 'XGBoost Regressor': {'train_score': 0.968093088851689, 'test_score': 0.8462543671823839}, 'CatBoost Regressor': {'train_score': 0.9055141808076989, 'test_score': 0.8603567905782529}}\n"
   ]
  },
  {
   "cell_type": "code",
   "execution_count": 19,
   "metadata": {},
   "outputs": [
    {
     "data": {
      "text/plain": [
       "dict"
      ]
     },
     "execution_count": 19,
     "metadata": {},
     "output_type": "execute_result"
    }
   ],
   "source": [
    "type(a)"
   ]
  },
  {
   "cell_type": "code",
   "execution_count": 20,
   "metadata": {},
   "outputs": [
    {
     "data": {
      "text/plain": [
       "dict_keys(['Linear Regression', 'Rigid Regression', 'Lasso Regression', 'ElasticNet Regression', 'Support Vector Regressor', 'Decision Tree Regressor', 'RandomForest Regressor', 'AdaBoost Regressor', 'GradientBoost Regressor', 'XGBoost Regressor', 'CatBoost Regressor'])"
      ]
     },
     "execution_count": 20,
     "metadata": {},
     "output_type": "execute_result"
    }
   ],
   "source": [
    "a.keys()"
   ]
  },
  {
   "cell_type": "code",
   "execution_count": 21,
   "metadata": {},
   "outputs": [
    {
     "data": {
      "text/plain": [
       "dict_values([{'train_score': 0.8743080398577533, 'test_score': 0.8805225698310648}, {'train_score': 0.8743044675204545, 'test_score': 0.8805917946912827}, {'train_score': 0.8707302027304805, 'test_score': 0.881566256500233}, {'train_score': 0.8653229929285037, 'test_score': 0.8746331163845618}, {'train_score': 0.8726134362008928, 'test_score': 0.8807789203580447}, {'train_score': 0.9996534669718089, 'test_score': 0.6843490382118071}, {'train_score': 0.9764712430665835, 'test_score': 0.8554833095998092}, {'train_score': 0.8504636519671606, 'test_score': 0.8452019585345801}, {'train_score': 0.9050396644022572, 'test_score': 0.8722860794151958}, {'train_score': 0.968093088851689, 'test_score': 0.8462543671823839}, {'train_score': 0.9055141808076989, 'test_score': 0.8603567905782529}])"
      ]
     },
     "execution_count": 21,
     "metadata": {},
     "output_type": "execute_result"
    }
   ],
   "source": [
    "a.values()"
   ]
  },
  {
   "cell_type": "code",
   "execution_count": 22,
   "metadata": {},
   "outputs": [
    {
     "data": {
      "text/plain": [
       "dict_items([('Linear Regression', {'train_score': 0.8743080398577533, 'test_score': 0.8805225698310648}), ('Rigid Regression', {'train_score': 0.8743044675204545, 'test_score': 0.8805917946912827}), ('Lasso Regression', {'train_score': 0.8707302027304805, 'test_score': 0.881566256500233}), ('ElasticNet Regression', {'train_score': 0.8653229929285037, 'test_score': 0.8746331163845618}), ('Support Vector Regressor', {'train_score': 0.8726134362008928, 'test_score': 0.8807789203580447}), ('Decision Tree Regressor', {'train_score': 0.9996534669718089, 'test_score': 0.6843490382118071}), ('RandomForest Regressor', {'train_score': 0.9764712430665835, 'test_score': 0.8554833095998092}), ('AdaBoost Regressor', {'train_score': 0.8504636519671606, 'test_score': 0.8452019585345801}), ('GradientBoost Regressor', {'train_score': 0.9050396644022572, 'test_score': 0.8722860794151958}), ('XGBoost Regressor', {'train_score': 0.968093088851689, 'test_score': 0.8462543671823839}), ('CatBoost Regressor', {'train_score': 0.9055141808076989, 'test_score': 0.8603567905782529})])"
      ]
     },
     "execution_count": 22,
     "metadata": {},
     "output_type": "execute_result"
    }
   ],
   "source": [
    "a.items()"
   ]
  },
  {
   "cell_type": "code",
   "execution_count": 27,
   "metadata": {},
   "outputs": [],
   "source": [
    "l = list(a.items())"
   ]
  },
  {
   "cell_type": "code",
   "execution_count": 28,
   "metadata": {},
   "outputs": [
    {
     "data": {
      "text/plain": [
       "[('Linear Regression',\n",
       "  {'train_score': 0.8743080398577533, 'test_score': 0.8805225698310648}),\n",
       " ('Rigid Regression',\n",
       "  {'train_score': 0.8743044675204545, 'test_score': 0.8805917946912827}),\n",
       " ('Lasso Regression',\n",
       "  {'train_score': 0.8707302027304805, 'test_score': 0.881566256500233}),\n",
       " ('ElasticNet Regression',\n",
       "  {'train_score': 0.8653229929285037, 'test_score': 0.8746331163845618}),\n",
       " ('Support Vector Regressor',\n",
       "  {'train_score': 0.8726134362008928, 'test_score': 0.8807789203580447}),\n",
       " ('Decision Tree Regressor',\n",
       "  {'train_score': 0.9996534669718089, 'test_score': 0.6843490382118071}),\n",
       " ('RandomForest Regressor',\n",
       "  {'train_score': 0.9764712430665835, 'test_score': 0.8554833095998092}),\n",
       " ('AdaBoost Regressor',\n",
       "  {'train_score': 0.8504636519671606, 'test_score': 0.8452019585345801}),\n",
       " ('GradientBoost Regressor',\n",
       "  {'train_score': 0.9050396644022572, 'test_score': 0.8722860794151958}),\n",
       " ('XGBoost Regressor',\n",
       "  {'train_score': 0.968093088851689, 'test_score': 0.8462543671823839}),\n",
       " ('CatBoost Regressor',\n",
       "  {'train_score': 0.9055141808076989, 'test_score': 0.8603567905782529})]"
      ]
     },
     "execution_count": 28,
     "metadata": {},
     "output_type": "execute_result"
    }
   ],
   "source": [
    "l"
   ]
  },
  {
   "cell_type": "code",
   "execution_count": 29,
   "metadata": {},
   "outputs": [
    {
     "data": {
      "text/plain": [
       "('Linear Regression',\n",
       " {'train_score': 0.8743080398577533, 'test_score': 0.8805225698310648})"
      ]
     },
     "execution_count": 29,
     "metadata": {},
     "output_type": "execute_result"
    }
   ],
   "source": [
    "l[0]"
   ]
  },
  {
   "cell_type": "code",
   "execution_count": 30,
   "metadata": {},
   "outputs": [
    {
     "data": {
      "text/plain": [
       "'Linear Regression'"
      ]
     },
     "execution_count": 30,
     "metadata": {},
     "output_type": "execute_result"
    }
   ],
   "source": [
    "l[0][0]"
   ]
  },
  {
   "cell_type": "code",
   "execution_count": 31,
   "metadata": {},
   "outputs": [
    {
     "data": {
      "text/plain": [
       "{'train_score': 0.8743080398577533, 'test_score': 0.8805225698310648}"
      ]
     },
     "execution_count": 31,
     "metadata": {},
     "output_type": "execute_result"
    }
   ],
   "source": [
    "l[0][1]"
   ]
  },
  {
   "cell_type": "code",
   "execution_count": 43,
   "metadata": {},
   "outputs": [
    {
     "data": {
      "text/plain": [
       "0.8805225698310648"
      ]
     },
     "execution_count": 43,
     "metadata": {},
     "output_type": "execute_result"
    }
   ],
   "source": [
    "list((l[0][1].values()))[1]"
   ]
  },
  {
   "cell_type": "code",
   "execution_count": 67,
   "metadata": {},
   "outputs": [
    {
     "name": "stdout",
     "output_type": "stream",
     "text": [
      "Score in list of Linear Regression:[0.8743080398577533, 0.8805225698310648]\n",
      "Test Score :0.8805225698310648\n",
      "[0.8805225698310648]\n",
      "Sorted Test Score [0.8805225698310648]\n",
      "Maximum of Best_Score:0.8805225698310648\n",
      "Score in list of Rigid Regression:[0.8743044675204545, 0.8805917946912827]\n",
      "Test Score :0.8805917946912827\n",
      "[0.8805225698310648, 0.8805917946912827]\n",
      "Sorted Test Score [0.8805225698310648, 0.8805917946912827]\n",
      "Maximum of Best_Score:0.8805917946912827\n",
      "Score in list of Lasso Regression:[0.8707302027304805, 0.881566256500233]\n",
      "Test Score :0.881566256500233\n",
      "[0.8805225698310648, 0.8805917946912827, 0.881566256500233]\n",
      "Sorted Test Score [0.8805225698310648, 0.8805917946912827, 0.881566256500233]\n",
      "Maximum of Best_Score:0.881566256500233\n",
      "Score in list of ElasticNet Regression:[0.8653229929285037, 0.8746331163845618]\n",
      "Test Score :0.8746331163845618\n",
      "[0.8805225698310648, 0.8805917946912827, 0.881566256500233, 0.8746331163845618]\n",
      "Sorted Test Score [0.8746331163845618, 0.8805225698310648, 0.8805917946912827, 0.881566256500233]\n",
      "Maximum of Best_Score:0.881566256500233\n",
      "Score in list of Support Vector Regressor:[0.8726134362008928, 0.8807789203580447]\n",
      "Test Score :0.8807789203580447\n",
      "[0.8805225698310648, 0.8805917946912827, 0.881566256500233, 0.8746331163845618, 0.8807789203580447]\n",
      "Sorted Test Score [0.8746331163845618, 0.8805225698310648, 0.8805917946912827, 0.8807789203580447, 0.881566256500233]\n",
      "Maximum of Best_Score:0.881566256500233\n",
      "Score in list of Decision Tree Regressor:[0.9996534669718089, 0.6843490382118071]\n",
      "Test Score :0.6843490382118071\n",
      "[0.8805225698310648, 0.8805917946912827, 0.881566256500233, 0.8746331163845618, 0.8807789203580447, 0.6843490382118071]\n",
      "Sorted Test Score [0.6843490382118071, 0.8746331163845618, 0.8805225698310648, 0.8805917946912827, 0.8807789203580447, 0.881566256500233]\n",
      "Maximum of Best_Score:0.881566256500233\n",
      "Score in list of RandomForest Regressor:[0.9764712430665835, 0.8554833095998092]\n",
      "Test Score :0.8554833095998092\n",
      "[0.8805225698310648, 0.8805917946912827, 0.881566256500233, 0.8746331163845618, 0.8807789203580447, 0.6843490382118071, 0.8554833095998092]\n",
      "Sorted Test Score [0.6843490382118071, 0.8554833095998092, 0.8746331163845618, 0.8805225698310648, 0.8805917946912827, 0.8807789203580447, 0.881566256500233]\n",
      "Maximum of Best_Score:0.881566256500233\n",
      "Score in list of AdaBoost Regressor:[0.8504636519671606, 0.8452019585345801]\n",
      "Test Score :0.8452019585345801\n",
      "[0.8805225698310648, 0.8805917946912827, 0.881566256500233, 0.8746331163845618, 0.8807789203580447, 0.6843490382118071, 0.8554833095998092, 0.8452019585345801]\n",
      "Sorted Test Score [0.6843490382118071, 0.8452019585345801, 0.8554833095998092, 0.8746331163845618, 0.8805225698310648, 0.8805917946912827, 0.8807789203580447, 0.881566256500233]\n",
      "Maximum of Best_Score:0.881566256500233\n",
      "Score in list of GradientBoost Regressor:[0.9050396644022572, 0.8722860794151958]\n",
      "Test Score :0.8722860794151958\n",
      "[0.8805225698310648, 0.8805917946912827, 0.881566256500233, 0.8746331163845618, 0.8807789203580447, 0.6843490382118071, 0.8554833095998092, 0.8452019585345801, 0.8722860794151958]\n",
      "Sorted Test Score [0.6843490382118071, 0.8452019585345801, 0.8554833095998092, 0.8722860794151958, 0.8746331163845618, 0.8805225698310648, 0.8805917946912827, 0.8807789203580447, 0.881566256500233]\n",
      "Maximum of Best_Score:0.881566256500233\n",
      "Score in list of XGBoost Regressor:[0.968093088851689, 0.8462543671823839]\n",
      "Test Score :0.8462543671823839\n",
      "[0.8805225698310648, 0.8805917946912827, 0.881566256500233, 0.8746331163845618, 0.8807789203580447, 0.6843490382118071, 0.8554833095998092, 0.8452019585345801, 0.8722860794151958, 0.8462543671823839]\n",
      "Sorted Test Score [0.6843490382118071, 0.8452019585345801, 0.8462543671823839, 0.8554833095998092, 0.8722860794151958, 0.8746331163845618, 0.8805225698310648, 0.8805917946912827, 0.8807789203580447, 0.881566256500233]\n",
      "Maximum of Best_Score:0.881566256500233\n",
      "Score in list of CatBoost Regressor:[0.9055141808076989, 0.8603567905782529]\n",
      "Test Score :0.8603567905782529\n",
      "[0.8805225698310648, 0.8805917946912827, 0.881566256500233, 0.8746331163845618, 0.8807789203580447, 0.6843490382118071, 0.8554833095998092, 0.8452019585345801, 0.8722860794151958, 0.8462543671823839, 0.8603567905782529]\n",
      "Sorted Test Score [0.6843490382118071, 0.8452019585345801, 0.8462543671823839, 0.8554833095998092, 0.8603567905782529, 0.8722860794151958, 0.8746331163845618, 0.8805225698310648, 0.8805917946912827, 0.8807789203580447, 0.881566256500233]\n",
      "Maximum of Best_Score:0.881566256500233\n"
     ]
    }
   ],
   "source": [
    "test_score = []\n",
    "\n",
    "for model_name, scores in a.items():\n",
    "      \n",
    "       \n",
    "        s = list(scores.values())\n",
    "        print(f\"Score in list of {model_name}:{s}\")\n",
    "        print(f\"Test Score :{s[1]}\")\n",
    "\n",
    "        # Lets do comparision\n",
    "        test_score.append(s[1])\n",
    "        print(test_score)\n",
    "\n",
    "        sorted_test_score = sorted(test_score)\n",
    "        print(f\"Sorted Test Score {sorted_test_score}\")\n",
    "        print(f\"Maximum of Best_Score:{max(sorted_test_score)}\")\n",
    "\n",
    "\n",
    "\n",
    "     \n",
    "\n",
    " "
   ]
  },
  {
   "cell_type": "code",
   "execution_count": 68,
   "metadata": {},
   "outputs": [
    {
     "name": "stdout",
     "output_type": "stream",
     "text": [
      "Model 1: Lasso Regression, Test Score: 0.881566256500233\n",
      "Model 2: Support Vector Regressor, Test Score: 0.8807789203580447\n",
      "Model 3: Rigid Regression, Test Score: 0.8805917946912827\n",
      "Model 4: Linear Regression, Test Score: 0.8805225698310648\n",
      "Model 5: ElasticNet Regression, Test Score: 0.8746331163845618\n",
      "Model 6: GradientBoost Regressor, Test Score: 0.8722860794151958\n",
      "Model 7: CatBoost Regressor, Test Score: 0.8603567905782529\n",
      "Model 8: RandomForest Regressor, Test Score: 0.8554833095998092\n",
      "Model 9: XGBoost Regressor, Test Score: 0.8462543671823839\n",
      "Model 10: AdaBoost Regressor, Test Score: 0.8452019585345801\n",
      "Model 11: Decision Tree Regressor, Test Score: 0.6843490382118071\n",
      "\n",
      "Best Model: Lasso Regression, Test Score: 0.881566256500233\n"
     ]
    }
   ],
   "source": [
    "# Initialize a list to store test scores\n",
    "test_scores = []\n",
    "\n",
    "# Iterate over each model\n",
    "for model_name, scores in a.items():\n",
    "    test_score = scores['test_score']\n",
    "    test_scores.append((model_name, test_score))\n",
    "\n",
    "# Sort models based on test score\n",
    "sorted_models = sorted(test_scores, key=lambda x: x[1], reverse=True)\n",
    "\n",
    "# Print sorted models\n",
    "for i, (model_name, test_score) in enumerate(sorted_models, 1):\n",
    "    print(f\"Model {i}: {model_name}, Test Score: {test_score}\")\n",
    "\n",
    "# Best model\n",
    "best_model_name, best_test_score = sorted_models[0]\n",
    "print(f\"\\nBest Model: {best_model_name}, Test Score: {best_test_score}\")"
   ]
  },
  {
   "cell_type": "code",
   "execution_count": 73,
   "metadata": {},
   "outputs": [
    {
     "name": "stdout",
     "output_type": "stream",
     "text": [
      "[('Linear Regression', 0.8743080398577533, 0.8805225698310648), ('Rigid Regression', 0.8743044675204545, 0.8805917946912827), ('Lasso Regression', 0.8707302027304805, 0.881566256500233), ('ElasticNet Regression', 0.8653229929285037, 0.8746331163845618), ('Support Vector Regressor', 0.8726134362008928, 0.8807789203580447), ('Decision Tree Regressor', 0.9996534669718089, 0.6843490382118071), ('RandomForest Regressor', 0.9764712430665835, 0.8554833095998092), ('AdaBoost Regressor', 0.8504636519671606, 0.8452019585345801), ('GradientBoost Regressor', 0.9050396644022572, 0.8722860794151958), ('XGBoost Regressor', 0.968093088851689, 0.8462543671823839), ('CatBoost Regressor', 0.9055141808076989, 0.8603567905782529)]\n",
      "[('Decision Tree Regressor', 0.9996534669718089, 0.6843490382118071), ('AdaBoost Regressor', 0.8504636519671606, 0.8452019585345801), ('XGBoost Regressor', 0.968093088851689, 0.8462543671823839), ('RandomForest Regressor', 0.9764712430665835, 0.8554833095998092), ('CatBoost Regressor', 0.9055141808076989, 0.8603567905782529), ('GradientBoost Regressor', 0.9050396644022572, 0.8722860794151958), ('ElasticNet Regression', 0.8653229929285037, 0.8746331163845618), ('Linear Regression', 0.8743080398577533, 0.8805225698310648), ('Rigid Regression', 0.8743044675204545, 0.8805917946912827), ('Support Vector Regressor', 0.8726134362008928, 0.8807789203580447), ('Lasso Regression', 0.8707302027304805, 0.881566256500233)]\n",
      "Model 1: Lasso Regression, Train Score: 0.8707302027304805, Test Score: 0.881566256500233\n",
      "Model 2: Support Vector Regressor, Train Score: 0.8726134362008928, Test Score: 0.8807789203580447\n",
      "Model 3: Rigid Regression, Train Score: 0.8743044675204545, Test Score: 0.8805917946912827\n",
      "Model 4: Linear Regression, Train Score: 0.8743080398577533, Test Score: 0.8805225698310648\n",
      "Model 5: ElasticNet Regression, Train Score: 0.8653229929285037, Test Score: 0.8746331163845618\n",
      "Model 6: GradientBoost Regressor, Train Score: 0.9050396644022572, Test Score: 0.8722860794151958\n",
      "Model 7: CatBoost Regressor, Train Score: 0.9055141808076989, Test Score: 0.8603567905782529\n",
      "Model 8: RandomForest Regressor, Train Score: 0.9764712430665835, Test Score: 0.8554833095998092\n",
      "Model 9: XGBoost Regressor, Train Score: 0.968093088851689, Test Score: 0.8462543671823839\n",
      "Model 10: AdaBoost Regressor, Train Score: 0.8504636519671606, Test Score: 0.8452019585345801\n",
      "Model 11: Decision Tree Regressor, Train Score: 0.9996534669718089, Test Score: 0.6843490382118071\n",
      "\n",
      "Best Model: Lasso Regression, Train Score: 0.8707302027304805, Test Score: 0.881566256500233\n"
     ]
    }
   ],
   "source": [
    "# Initialize a list to store model names and scores\n",
    "model_scores = []\n",
    "\n",
    "# Iterate over each model\n",
    "for model_name, scores in a.items():\n",
    "    train_score = scores['train_score']\n",
    "    test_score = scores['test_score']\n",
    "    model_scores.append((model_name, train_score, test_score))\n",
    "print(model_scores)\n",
    "print(sorted(model_scores,key=lambda x : x[2]))\n",
    "\n",
    "# Sort models based on test score\n",
    "sorted_models = sorted(model_scores, key=lambda x: x[2], reverse=True)  \n",
    "\n",
    "# Print sorted models\n",
    "for i, (model_name, train_score, test_score) in enumerate(sorted_models, 1):\n",
    "    print(f\"Model {i}: {model_name}, Train Score: {train_score}, Test Score: {test_score}\")\n",
    "\n",
    "# Best model\n",
    "best_model_name, best_train_score, best_test_score = sorted_models[0]\n",
    "print(f\"\\nBest Model: {best_model_name}, Train Score: {best_train_score}, Test Score: {best_test_score}\")"
   ]
  },
  {
   "cell_type": "code",
   "execution_count": null,
   "metadata": {},
   "outputs": [],
   "source": []
  }
 ],
 "metadata": {
  "kernelspec": {
   "display_name": "Python 3",
   "language": "python",
   "name": "python3"
  },
  "language_info": {
   "codemirror_mode": {
    "name": "ipython",
    "version": 3
   },
   "file_extension": ".py",
   "mimetype": "text/x-python",
   "name": "python",
   "nbconvert_exporter": "python",
   "pygments_lexer": "ipython3",
   "version": "3.9.0"
  }
 },
 "nbformat": 4,
 "nbformat_minor": 2
}
